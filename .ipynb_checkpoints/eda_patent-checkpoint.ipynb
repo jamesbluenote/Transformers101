{
 "cells": [
  {
   "cell_type": "code",
   "execution_count": 14,
   "id": "82d4c0a6-2879-425d-b418-a20e2a735612",
   "metadata": {},
   "outputs": [],
   "source": [
    "import pandas as pd\n",
    "import json\n",
    "import os"
   ]
  },
  {
   "cell_type": "code",
   "execution_count": 4,
   "id": "cfb87fba-e694-42c3-a2f0-f9a5a785902e",
   "metadata": {},
   "outputs": [
    {
     "data": {
      "text/plain": [
       "'C:\\\\Users\\\\kiip\\\\Documents\\\\github\\\\Transformers101'"
      ]
     },
     "execution_count": 4,
     "metadata": {},
     "output_type": "execute_result"
    }
   ],
   "source": [
    "os.getcwd()"
   ]
  },
  {
   "cell_type": "code",
   "execution_count": 25,
   "id": "2ef0ba8e-a3e1-4aa4-be59-b8f483c9ee1a",
   "metadata": {},
   "outputs": [],
   "source": [
    "with open('2011_USPTO.json', 'r') as f:\n",
    "    json_data = json.load(f)"
   ]
  },
  {
   "cell_type": "code",
   "execution_count": 15,
   "id": "8d99f10e-0249-4538-bcb7-7901bf175a17",
   "metadata": {},
   "outputs": [],
   "source": [
    "df = pd.read_json('2011_USPTO.json')"
   ]
  },
  {
   "cell_type": "code",
   "execution_count": 20,
   "id": "f199020c-57be-4090-878c-41e2afe372e9",
   "metadata": {},
   "outputs": [
    {
     "data": {
      "text/plain": [
       "(226718, 4)"
      ]
     },
     "execution_count": 20,
     "metadata": {},
     "output_type": "execute_result"
    }
   ],
   "source": [
    "df.shape"
   ]
  },
  {
   "cell_type": "code",
   "execution_count": 21,
   "id": "ae80f1fe-5819-4646-b0e9-df77fb91f805",
   "metadata": {},
   "outputs": [
    {
     "data": {
      "text/html": [
       "<div>\n",
       "<style scoped>\n",
       "    .dataframe tbody tr th:only-of-type {\n",
       "        vertical-align: middle;\n",
       "    }\n",
       "\n",
       "    .dataframe tbody tr th {\n",
       "        vertical-align: top;\n",
       "    }\n",
       "\n",
       "    .dataframe thead th {\n",
       "        text-align: right;\n",
       "    }\n",
       "</style>\n",
       "<table border=\"1\" class=\"dataframe\">\n",
       "  <thead>\n",
       "    <tr style=\"text-align: right;\">\n",
       "      <th></th>\n",
       "      <th>Subclass_labels</th>\n",
       "      <th>Abstract</th>\n",
       "      <th>Title</th>\n",
       "      <th>No</th>\n",
       "    </tr>\n",
       "  </thead>\n",
       "  <tbody>\n",
       "    <tr>\n",
       "      <th>0</th>\n",
       "      <td>[F02B, F02M]</td>\n",
       "      <td>a method for providing air to a combustion cha...</td>\n",
       "      <td>stored compressed air management for improved ...</td>\n",
       "      <td>US08069665</td>\n",
       "    </tr>\n",
       "    <tr>\n",
       "      <th>1</th>\n",
       "      <td>[G11C]</td>\n",
       "      <td>a reading method for a multi level cell mlc me...</td>\n",
       "      <td>reading method for mlc memory and reading circ...</td>\n",
       "      <td>US08023333</td>\n",
       "    </tr>\n",
       "    <tr>\n",
       "      <th>2</th>\n",
       "      <td>[G06F, H04L]</td>\n",
       "      <td>techniques for validating identities are provi...</td>\n",
       "      <td>identity validation</td>\n",
       "      <td>US08069476</td>\n",
       "    </tr>\n",
       "    <tr>\n",
       "      <th>3</th>\n",
       "      <td>[G01N]</td>\n",
       "      <td>according to the invention the image contrast ...</td>\n",
       "      <td>method for producing image contrast by phase s...</td>\n",
       "      <td>US07973289</td>\n",
       "    </tr>\n",
       "    <tr>\n",
       "      <th>4</th>\n",
       "      <td>[H01L]</td>\n",
       "      <td>a method of dry developing a multi layer mask ...</td>\n",
       "      <td>method for etching silicon containing arc laye...</td>\n",
       "      <td>US07888267</td>\n",
       "    </tr>\n",
       "    <tr>\n",
       "      <th>5</th>\n",
       "      <td>[G06F, H04N]</td>\n",
       "      <td>representative embodiments are disclosed of a ...</td>\n",
       "      <td>real time priority based media communication</td>\n",
       "      <td>US08065426</td>\n",
       "    </tr>\n",
       "    <tr>\n",
       "      <th>6</th>\n",
       "      <td>[C01B, B01D, C01G, B01J]</td>\n",
       "      <td>an oxidation catalyst that efficiently promote...</td>\n",
       "      <td>oxidation catalyst and exhaust gas purificatio...</td>\n",
       "      <td>US08034311</td>\n",
       "    </tr>\n",
       "    <tr>\n",
       "      <th>7</th>\n",
       "      <td>[G11C]</td>\n",
       "      <td>an exemplary shift register includes a plurali...</td>\n",
       "      <td>shift register</td>\n",
       "      <td>US08027426</td>\n",
       "    </tr>\n",
       "    <tr>\n",
       "      <th>8</th>\n",
       "      <td>[G06F]</td>\n",
       "      <td>a disk channel includes disk channel modules t...</td>\n",
       "      <td>disk channel system with sector request queue</td>\n",
       "      <td>US07904644</td>\n",
       "    </tr>\n",
       "    <tr>\n",
       "      <th>9</th>\n",
       "      <td>[B23P, H04R]</td>\n",
       "      <td>replacement of a transducer assembly for an ul...</td>\n",
       "      <td>process of manufacturing a transducer assembly...</td>\n",
       "      <td>US08011083</td>\n",
       "    </tr>\n",
       "  </tbody>\n",
       "</table>\n",
       "</div>"
      ],
      "text/plain": [
       "            Subclass_labels  \\\n",
       "0              [F02B, F02M]   \n",
       "1                    [G11C]   \n",
       "2              [G06F, H04L]   \n",
       "3                    [G01N]   \n",
       "4                    [H01L]   \n",
       "5              [G06F, H04N]   \n",
       "6  [C01B, B01D, C01G, B01J]   \n",
       "7                    [G11C]   \n",
       "8                    [G06F]   \n",
       "9              [B23P, H04R]   \n",
       "\n",
       "                                            Abstract  \\\n",
       "0  a method for providing air to a combustion cha...   \n",
       "1  a reading method for a multi level cell mlc me...   \n",
       "2  techniques for validating identities are provi...   \n",
       "3  according to the invention the image contrast ...   \n",
       "4  a method of dry developing a multi layer mask ...   \n",
       "5  representative embodiments are disclosed of a ...   \n",
       "6  an oxidation catalyst that efficiently promote...   \n",
       "7  an exemplary shift register includes a plurali...   \n",
       "8  a disk channel includes disk channel modules t...   \n",
       "9  replacement of a transducer assembly for an ul...   \n",
       "\n",
       "                                               Title          No  \n",
       "0  stored compressed air management for improved ...  US08069665  \n",
       "1  reading method for mlc memory and reading circ...  US08023333  \n",
       "2                                identity validation  US08069476  \n",
       "3  method for producing image contrast by phase s...  US07973289  \n",
       "4  method for etching silicon containing arc laye...  US07888267  \n",
       "5       real time priority based media communication  US08065426  \n",
       "6  oxidation catalyst and exhaust gas purificatio...  US08034311  \n",
       "7                                     shift register  US08027426  \n",
       "8      disk channel system with sector request queue  US07904644  \n",
       "9  process of manufacturing a transducer assembly...  US08011083  "
      ]
     },
     "execution_count": 21,
     "metadata": {},
     "output_type": "execute_result"
    }
   ],
   "source": [
    "df.head(10)"
   ]
  },
  {
   "cell_type": "code",
   "execution_count": 29,
   "id": "167f9260-3370-4def-a4e2-fbb8a37543f4",
   "metadata": {},
   "outputs": [
    {
     "data": {
      "text/plain": [
       "'stored compressed air management for improved engine performance'"
      ]
     },
     "execution_count": 29,
     "metadata": {},
     "output_type": "execute_result"
    }
   ],
   "source": [
    "json_data[0]['Title']"
   ]
  },
  {
   "cell_type": "code",
   "execution_count": 30,
   "id": "6bf80d18-d5d6-4b88-8cf2-97a788427b17",
   "metadata": {},
   "outputs": [
    {
     "data": {
      "text/plain": [
       "'C:\\\\Users\\\\kiip\\\\Documents\\\\github\\\\Transformers101'"
      ]
     },
     "execution_count": 30,
     "metadata": {},
     "output_type": "execute_result"
    }
   ],
   "source": [
    "os.getcwd()"
   ]
  },
  {
   "cell_type": "code",
   "execution_count": 70,
   "id": "b329c51c-dd8e-44f5-9954-b5b710dd6eaf",
   "metadata": {},
   "outputs": [
    {
     "data": {
      "text/plain": [
       "'C:\\\\Users\\\\kiip\\\\Documents\\\\05 Data\\\\20230105'"
      ]
     },
     "execution_count": 70,
     "metadata": {},
     "output_type": "execute_result"
    }
   ],
   "source": [
    "os.chdir('C:\\\\Users\\\\kiip\\\\Documents\\\\05 Data\\\\20230105')\n",
    "os.getcwd()"
   ]
  },
  {
   "cell_type": "code",
   "execution_count": 68,
   "id": "494e272b-1176-4e60-926a-f46cc7b0ad04",
   "metadata": {},
   "outputs": [],
   "source": [
    "with open(\"US_ABSTRACT.txt\", \"r\", encoding=\"UTF-8\") as f:\n",
    "    text_us_abs = f.readlines()"
   ]
  },
  {
   "cell_type": "code",
   "execution_count": 69,
   "id": "7f7408f9-176c-48fa-9b9e-5f8798d1bd37",
   "metadata": {},
   "outputs": [
    {
     "name": "stdout",
     "output_type": "stream",
     "text": [
      "문헌번호¶초록\n",
      " \n",
      " 000011483961B2¶<p id=\"p-0001\" num=\"0000\">A conveyor having a conveyance structure, mixing components, belt, and gas manifold. The gas manifold disposed within or on an exterior portion of the structure. The gas manifold having one or more manifold outlet ports to dry, condition, or treat a metered stream of seed within the conveyor. The manifold may be operably connected to a recirculating air system providing the vacuum source and pressurized air source of atmospheric or conditioned air. A filter and vacuum port may extract debris or humidity from the metered stream of seed within the conveyor. A plurality of mixing baffles may be longitudinally spaced apart through the conveyor in a laterally alternating manner to mix the metered stream of seed. The conveyor may be used to transfer, mix, dry, condition and treat the metered stream of seed between multiple stages of treatment.</p>\n",
      "\n"
     ]
    }
   ],
   "source": [
    "print(text_us_abs[0], '\\n', text_us_abs[1])"
   ]
  },
  {
   "cell_type": "code",
   "execution_count": 71,
   "id": "e080de34-5b2f-435c-8598-f4a5cc657691",
   "metadata": {},
   "outputs": [],
   "source": [
    "with open(\"US_BIBLIO.txt\", \"r\", encoding=\"UTF-8\") as f:\n",
    "    text_us_bib = f.readlines()"
   ]
  },
  {
   "cell_type": "code",
   "execution_count": 72,
   "id": "919e7976-c2d5-479c-95c1-4e0969b06b09",
   "metadata": {},
   "outputs": [
    {
     "name": "stdout",
     "output_type": "stream",
     "text": [
      "문헌번호¶특허문헌코드¶공보번호¶공보일자¶등록번호¶등록일자¶공개번호¶공개일자¶출원번호¶출원일자¶국제출원번호¶국제출원일자¶국제공개번호¶국제공개일자¶발명의명칭\n",
      " \n",
      " 000011483961B2¶B2¶11483961¶20221101¶11483961¶20221101¶ ¶ ¶17595531¶20200729¶PCT/US2020/070324¶20200729¶WO2021022298¶20210204    ¶Mixing and drying conveyor\n",
      "\n"
     ]
    }
   ],
   "source": [
    "print(text_us_bib[0], '\\n', text_us_bib[1])"
   ]
  },
  {
   "cell_type": "code",
   "execution_count": 46,
   "id": "4fd37954-e322-4f39-a5a3-c470f1be2b99",
   "metadata": {},
   "outputs": [],
   "source": [
    "with open(\"US_IPC.txt\", \"r\", encoding=\"UTF-8\") as f:\n",
    "    text_ipc = f.readlines()"
   ]
  },
  {
   "cell_type": "code",
   "execution_count": 48,
   "id": "daf8a9b9-f356-472e-8d7b-2a156afe0e1f",
   "metadata": {},
   "outputs": [
    {
     "data": {
      "text/plain": [
       "['문헌번호¶일련번호¶IPC코드\\n', '000011483961B2¶1¶F26B 25/00\\n']"
      ]
     },
     "execution_count": 48,
     "metadata": {},
     "output_type": "execute_result"
    }
   ],
   "source": [
    "text_ipc[:2]"
   ]
  },
  {
   "cell_type": "code",
   "execution_count": 49,
   "id": "7acb184e-b8e4-4f95-b3b5-09ac4cf31289",
   "metadata": {},
   "outputs": [],
   "source": [
    "with open(\"US_CLAIM.txt\", \"r\", encoding=\"UTF-8\") as f:\n",
    "    text_claim = f.readlines()"
   ]
  },
  {
   "cell_type": "code",
   "execution_count": 50,
   "id": "a115f224-cfe6-487c-a4f4-087f66a3e748",
   "metadata": {},
   "outputs": [
    {
     "data": {
      "text/plain": [
       "['문헌번호¶청구항\\n',\n",
       " '000011483961B2¶<claim id=\"CLM-00001\" num=\"00001\"> <claim-text>1. A conveyor comprising: <claim-text>a. a conveyance structure;</claim-text> <claim-text>b. a belt partially disposed within the conveyance structure;</claim-text> <claim-text>c. a first gas manifold operably connected to the conveyance structure to direct pressurized gas into the conveyance structure; and</claim-text> <claim-text>d. a plurality of mixing baffles longitudinally spaced apart through the conveyor.</claim-text> </claim-text> </claim> <claim id=\"CLM-00002\" num=\"00002\"> <claim-text>2. The conveyor of <claim-ref idref=\"CLM-00001\">claim 1</claim-ref>, further comprising: <claim-text>a. a lid of the conveyor that is removable; and</claim-text> <claim-text>b. a plurality of manifold outlet ports pass through the lid.</claim-text> </claim-text> </claim> <claim id=\"CLM-00003\" num=\"00003\"> <claim-text>3. The conveyor of <claim-ref idref=\"CLM-00001\">claim 1</claim-ref>, further comprising: <claim-text>a. wherein the plurality of mixing baffles are disposed within the conveyor in a laterally alternating manner; and</claim-text> <claim-text>b. a plurality of manifold outlet ports operably connected to the first gas manifold, wherein a first manifold outlet port is disposed laterally adjacent to a first mixing baffle.</claim-text> </claim-text> </claim> <claim id=\"CLM-00004\" num=\"00004\"> <claim-text>4. The conveyor of <claim-ref idref=\"CLM-00001\">claim 1</claim-ref>, wherein the first gas manifold is mounted to an exterior portion of the conveyor.</claim-text> </claim> <claim id=\"CLM-00005\" num=\"00005\"> <claim-text>5. The conveyor of <claim-ref idref=\"CLM-00001\">claim 1</claim-ref>, wherein the first gas manifold is disposed within the conveyance structure.</claim-text> </claim> <claim id=\"CLM-00006\" num=\"00006\"> <claim-text>6. The conveyor of <claim-ref idref=\"CLM-00001\">claim 1</claim-ref>, further comprising: <claim-text>a. a second gas manifold operably connected to the conveyance structure at a point longitudinally spaced apart from the first gas manifold along the conveyance structure to direct gas from the conveyance structure.</claim-text> </claim-text> </claim> <claim id=\"CLM-00007\" num=\"00007\"> <claim-text>7. The conveyor of <claim-ref idref=\"CLM-00006\">claim 6</claim-ref>, further comprising: <claim-text>a. a vacuum source operably connected to the second gas manifold; and</claim-text> <claim-text>b. a filter disposed between the second gas manifold and the vacuum source.</claim-text> </claim-text> </claim> <claim id=\"CLM-00008\" num=\"00008\"> <claim-text>8. The conveyor of <claim-ref idref=\"CLM-00006\">claim 6</claim-ref>, further comprising: <claim-text>a. a recirculating gas system providing: <claim-text>i. a vacuum source operably connected to the second gas manifold; and</claim-text> <claim-text>ii. a pressurized gas source operably connected to the first gas manifold.</claim-text> </claim-text> </claim-text> </claim> <claim id=\"CLM-00009\" num=\"00009\"> <claim-text>9. The conveyor of <claim-ref idref=\"CLM-00001\">claim 1</claim-ref>, further comprising: <claim-text>a. a vacuum port in common with the manifold disposed at a head end of the conveyor.</claim-text> </claim-text> </claim> <claim id=\"CLM-00010\" num=\"00010\"> <claim-text>10. A method comprising the steps of: <claim-text>a. carrying a stream of seed upon a belt through a conveyor, the belt conformed to a curvilinear portion of the conveyor; and</claim-text> <claim-text>b. inducing turbulent backflow in the stream of seed with a first mixing baffle.</claim-text> </claim-text> </claim> <claim id=\"CLM-00011\" num=\"00011\"> <claim-text>11. The method of <claim-ref idref=\"CLM-00010\">claim 10</claim-ref>, further comprising the step of: <claim-text>a. connecting a pressurized gas source to the conveyor near the first mixing baffle.</claim-text> </claim-text> </claim> <claim id=\"CLM-00012\" num=\"00012\"> <claim-text>12. The method of <claim-ref idref=\"CLM-00011\">claim 11</claim-ref>, further comprising the step of: <claim-text>a. extracting debris from the stream of seed with a negative pressure from the pressurized gas source.</claim-text> </claim-text> </claim> <claim id=\"CLM-00013\" num=\"00013\"> <claim-text>13. The method of <claim-ref idref=\"CLM-00011\">claim 11</claim-ref>, further comprising the step of: <claim-text>a. extracting humid air from the conveyor with a negative pressure from the pressurized gas source.</claim-text> </claim-text> </claim> <claim id=\"CLM-00014\" num=\"00014\"> <claim-text>14. The method of <claim-ref idref=\"CLM-00011\">claim 11</claim-ref>, further comprising the step of: <claim-text>a. introducing a gas into the conveyor with a positive pressure from the pressurized gas source.</claim-text> </claim-text> </claim> <claim id=\"CLM-00015\" num=\"00015\"> <claim-text>15. The method of <claim-ref idref=\"CLM-00014\">claim 14</claim-ref>, wherein the gas is atmospheric air.</claim-text> </claim> <claim id=\"CLM-00016\" num=\"00016\"> <claim-text>16. The method of <claim-ref idref=\"CLM-00014\">claim 14</claim-ref>, wherein the gas is conditioned air.</claim-text> </claim> <claim id=\"CLM-00017\" num=\"00017\"> <claim-text>17. The method of <claim-ref idref=\"CLM-00010\">claim 10</claim-ref>, further comprising the step of: <claim-text>a. mounting the first mixing baffle on a first lateral side of the conveyor;</claim-text> <claim-text>b. forming an eddy in the stream of seed behind the first mixing baffle on the first lateral side of the conveyor; and</claim-text> <claim-text>c. filling the eddy with a backflow of seed from downstream.</claim-text> </claim-text> </claim> <claim id=\"CLM-00018\" num=\"00018\"> <claim-text>18. The method of <claim-ref idref=\"CLM-00010\">claim 10</claim-ref>, wherein the stream of seed is a quantity of a plant seed partially covered with a wet seed treatment, and further comprising the step of: <claim-text>a. spreading the wet seed treatment around the quantity of the plant seed.</claim-text> </claim-text> </claim> <claim id=\"CLM-00019\" num=\"00019\"> <claim-text>19. The method of <claim-ref idref=\"CLM-00010\">claim 10</claim-ref>, further comprising the steps of: <claim-text>a. providing a passage in the first mixing baffle above a lower portion of the first mixing baffle; and</claim-text> <claim-text>b. allowing a portion of the stream of seed to travel through the passage.</claim-text> </claim-text> </claim> <claim id=\"CLM-00020\" num=\"00020\"> <claim-text>20. The method of <claim-ref idref=\"CLM-00010\">claim 10</claim-ref>, further comprising the steps of: <claim-text>a. directing lateral movement from a first lateral side of the conveyor to a second lateral side of the conveyor in an alternating manner through a longitudinal portion of the conveyor.</claim-text> </claim-text> </claim> <claim id=\"CLM-00021\" num=\"00021\"> <claim-text>21. A method of preparing seed for planting comprising the steps of: <claim-text>a. providing a metered stream of seed having a seed flow rate to a first applicator;</claim-text> <claim-text>b. treating the metered stream of seed within the first applicator with a first amount of a first treatment based on the seed flow rate;</claim-text> <claim-text>c. inducing turbulent backflow in the metered stream of seed having the first treatment within a first conveyor with a plurality of mixing baffles longitudinally spaced apart through a conveyor in a laterally alternating manner;</claim-text> <claim-text>d. transferring the metered stream of seed having the first treatment to a second applicator; and</claim-text> <claim-text>e. treating the metered stream of seed having the first treatment within the second applicator with a second amount of a second treatment based on the seed flow rate.</claim-text> </claim-text> </claim> <claim id=\"CLM-00022\" num=\"00022\"> <claim-text>22. The method of <claim-ref idref=\"CLM-00021\">claim 21</claim-ref>, further comprising the step of: <claim-text>a. maintaining the metered stream of seed at the seed flow rate between the first applicator and the second applicator.</claim-text> </claim-text> </claim> <claim id=\"CLM-00023\" num=\"00023\"> <claim-text>23. The method of <claim-ref idref=\"CLM-00022\">claim 22</claim-ref>, further comprising the step of: <claim-text>drying the metered stream of seed having the first treatment in the first conveyor by providing pressurized gas within the first conveyor.</claim-text> </claim-text> </claim> <claim id=\"CLM-00024\" num=\"00024\"> <claim-text>24. A method comprising the steps of: <claim-text>providing a metered stream of seed having a seed flow rate to a first applicator;</claim-text> <claim-text>treating the metered stream of seed with a first amount of a first treatment based on the seed flow rate within the first applicator;</claim-text> <claim-text>transferring the metered stream of seed having the first treatment to a second applicator;</claim-text> <claim-text>treating the metered stream of seed having the first treatment with a second amount of a second treatment based on the seed flow rate within the second applicator;</claim-text> <claim-text>inducing turbulent backflow in the metered stream of seed having the first treatment within a first conveyor with a plurality of mixing baffles longitudinally spaced apart through the first conveyor in a laterally alternating manner;</claim-text> <claim-text>drying the metered stream of seed having the first treatment in the first conveyor by providing pressurized gas within the first conveyor;</claim-text> <claim-text>mixing the metered stream of seed having the second treatment in a second conveyor with a plurality of mixing baffles; and</claim-text> <claim-text>drying the metered stream of seed having the second treatment in the second conveyor by providing pressurized gas to the second conveyor.</claim-text> </claim-text> </claim> <claim id=\"CLM-00025\" num=\"00025\"> <claim-text>25. A conveyor comprising: <claim-text>a. a trough structure extending longitudinally;</claim-text> <claim-text>b. a belt that conforms to the trough structure;</claim-text> <claim-text>c. a first mixing baffle disposed within the conveyor on a first lateral side and extending downwardly toward the belt; and</claim-text> <claim-text>d. a second mixing baffle longitudinally spaced downstream from the first mixing baffle along the conveyor and disposed on a second lateral side.</claim-text> </claim-text> </claim> <claim id=\"CLM-00026\" num=\"00026\"> <claim-text>26. The conveyor of <claim-ref idref=\"CLM-00025\">claim 25</claim-ref>, wherein the first mixing baffle further comprises: <claim-text>a. a first peripheral portion disposed upstream of a first central portion; and</claim-text> <claim-text>b. a first seed passage disposed within at least one of the first central portion and the first peripheral portion.</claim-text> </claim-text> </claim> <claim id=\"CLM-00027\" num=\"00027\"> <claim-text>27. The conveyor of <claim-ref idref=\"CLM-00026\">claim 26</claim-ref> further comprises: <claim-text>a second seed passage in the second mixing baffle that is: <claim-text>i. disposed within a second peripheral portion when the first seed passage is disposed in the first peripheral portion; and</claim-text> <claim-text>ii. disposed in a second central portion when the first seed passage is disposed in the first central portion.</claim-text> </claim-text> </claim-text> </claim> <claim id=\"CLM-00028\" num=\"00028\"> <claim-text>28. The conveyor of <claim-ref idref=\"CLM-00027\">claim 27</claim-ref>, where the first seed passage is above a first lower portion, wherein the first lower portion extends laterally below the first seed passage.</claim-text> </claim> <claim id=\"CLM-00029\" num=\"00029\"> <claim-text>29. The conveyor of <claim-ref idref=\"CLM-00028\">claim 28</claim-ref>, where the first lower portion extends from a first lateral side of the conveyor to a central portion of the conveyor.</claim-text> </claim> <claim id=\"CLM-00030\" num=\"00030\"> <claim-text>30. The conveyor of <claim-ref idref=\"CLM-00025\">claim 25</claim-ref>, wherein: <claim-text>a. the first mixing baffle comprises: <claim-text>i. a first seed passage disposed in a first central portion of the first mixing baffle;</claim-text> <claim-text>ii. a first lower portion extends laterally below the first seed passage;</claim-text> </claim-text> <claim-text>b. the second mixing baffle comprises: <claim-text>iii. a second seed passage disposed in a second central portion of the second mixing baffle; and</claim-text> <claim-text>iv. a second lower portion extends laterally below the second seed passage.</claim-text> </claim-text> </claim-text> </claim> <claim id=\"CLM-00031\" num=\"00031\"> <claim-text>31. The conveyor of <claim-ref idref=\"CLM-00025\">claim 25</claim-ref>, wherein a width of the first mixing baffle is approximately one half of a diameter of the trough structure.</claim-text> </claim> <claim id=\"CLM-00032\" num=\"00032\"> <claim-text>32. The conveyor of <claim-ref idref=\"CLM-00025\">claim 25</claim-ref>, wherein a lower portion of the first mixing baffle is positioned at a distance between 0.5 cm and 2.5 cm above the belt.</claim-text> </claim>\\n']"
      ]
     },
     "execution_count": 50,
     "metadata": {},
     "output_type": "execute_result"
    }
   ],
   "source": [
    "text_claim[:2]"
   ]
  },
  {
   "cell_type": "code",
   "execution_count": 51,
   "id": "0f53c9b6-280b-4fbf-85eb-dacea9c0f750",
   "metadata": {},
   "outputs": [
    {
     "data": {
      "text/plain": [
       "'E:\\\\04 Data_KIPRIS Plus_2022\\\\02_특허실용 등록공보(서지)\\\\20220104'"
      ]
     },
     "execution_count": 51,
     "metadata": {},
     "output_type": "execute_result"
    }
   ],
   "source": [
    "os.chdir('E:\\\\04 Data_KIPRIS Plus_2022\\\\02_특허실용 등록공보(서지)\\\\20220104')\n",
    "os.getcwd()"
   ]
  },
  {
   "cell_type": "code",
   "execution_count": 53,
   "id": "1f0ab111-f2df-44b0-9e05-02c0dec73143",
   "metadata": {},
   "outputs": [],
   "source": [
    "with open(\"Abstract.txt\", \"r\", encoding=\"UTF-8\") as f:\n",
    "    text_kr_abs = f.readlines()"
   ]
  },
  {
   "cell_type": "code",
   "execution_count": 60,
   "id": "032a9507-3027-4c42-831e-aca40456733a",
   "metadata": {},
   "outputs": [
    {
     "name": "stdout",
     "output_type": "stream",
     "text": [
      "출원번호¶초록\n",
      " \n",
      " 1020200036865¶ <summary> <p num=\"0001a\">본 발명은 금속이물 검출장치에 관한 것이다. 보다 상세하게는 검출부에 전달되는 진동을 원천적으로 차단하여 검출 강도를 향상시킨 금속이물 검출장치에 관한 것이다.<br></br> 본 발명의 실시 형태에 따른 금속이물 검출장치는, 피검출물을 이동하는 반송부를 지지하는 제1 프레임과 상기 피검출물의 금속이물 여부를 검출하는 검출부를 지지하는 제2 프레임으로 형성되고, 상기 제1 프레임은 복수의 제1 수직 프레임과 복수의 제1 수평 프레임으로 형성되며, 상기 제2 프레임은 복수의 제2 수직 프레임과 복수의 제2 수평 프레임으로 형성되고, 상기 제1 수평 프레임의 소정 위치의 상면에는 지지 블록이 고정되고, 상기 지지 블록에는 상기 제2 수평 프레임이 고정 또는 이격이 가능하도록 결합되며, 상기 프레임의 하단에는 캐스터가 장착되고, 상기 제1 및 제2 수직 프레임 각각의 하단에는 높이 조절이 가능한 제1 및 제2 높이 조절 받침이 결합되는 것을 특징으로 하여 이루어질 수 있다.</p> </summary> <abstract-figure><p num=\"0002a\"><img file=\"R1020200036865.tif\" he=\"121\" id=\"i0008\" img-format=\"tif\" wi=\"115\"></img></p></abstract-figure>\n",
      "\n"
     ]
    }
   ],
   "source": [
    "print(text_kr_abs[0], '\\n', text_kr_abs[1])"
   ]
  },
  {
   "cell_type": "code",
   "execution_count": 56,
   "id": "9bd10065-16d8-4b05-a388-ebacc0373e99",
   "metadata": {},
   "outputs": [],
   "source": [
    "with open(\"Bibliographic.txt\", \"r\", encoding=\"UTF-8\") as f:\n",
    "    text_kr_bib = f.readlines()"
   ]
  },
  {
   "cell_type": "code",
   "execution_count": 59,
   "id": "7ffd1291-7800-4aa9-a4c3-d5b972b08a3d",
   "metadata": {},
   "outputs": [
    {
     "name": "stdout",
     "output_type": "stream",
     "text": [
      "출원번호¶출원일자¶공개번호¶공개일자¶등록번호¶등록일자¶공고번호¶공고일자¶원출원번호¶원출원일자¶번역문제출일자¶국제출원번호¶국제출원일자¶국제공개번호¶국제공개일¶발명의명칭(국문)¶발명의명칭(영문)¶최종처분내용¶등록사항¶심사청구여부¶심사청구일자¶청구항수¶변경청구항수¶출원구분¶기술양도희망유무¶기술지도희망유무\n",
      " \n",
      " 1020200036865¶20200326¶1020210120311¶20211007¶1023436190000¶20211222¶ ¶20211227¶ ¶ ¶ ¶ ¶ ¶ ¶ ¶금속이물 검출장치¶THE APPARATUS FOR IDENTIFYING METALLIC FOREIGN  COMPONENTS¶등록결정(일반)¶등록¶Y¶2020.03.26¶3¶3¶신규¶N¶N\n",
      "\n"
     ]
    }
   ],
   "source": [
    "print(text_kr_bib[0], '\\n', text_kr_bib[1])"
   ]
  },
  {
   "cell_type": "code",
   "execution_count": 61,
   "id": "2661d089-140b-4939-b575-61e78164d79a",
   "metadata": {},
   "outputs": [],
   "source": [
    "with open(\"Claim.txt\", \"r\", encoding=\"UTF-8\") as f:\n",
    "    text_kr_claim = f.readlines()"
   ]
  },
  {
   "cell_type": "code",
   "execution_count": 62,
   "id": "0f8b4f66-3f71-4539-b912-61d320771c59",
   "metadata": {},
   "outputs": [
    {
     "name": "stdout",
     "output_type": "stream",
     "text": [
      "출원번호¶청구항\n",
      " \n",
      " 1020200036865¶ <claim num=\"1\"><claim-text>피검출물을 이동하는 반송부를 지지하는 제1 프레임과 상기 피검출물의 금속이물 여부를 검출하는 검출부를 지지하는 제2 프레임으로 형성되고,<br></br>상기 제1 프레임은 복수의 제1 수직 프레임과 복수의 제1 수평 프레임으로 형성되며, 상기 제2 프레임은 복수의 제2 수직 프레임과 복수의 제2 수평 프레임으로 형성되고,<br></br>상기 제1 수평 프레임의 소정 위치의 상면에는 지지 블록이 고정되고, 상기 지지 블록에는 상기 제2 수평 프레임이 고정 또는 이격이 가능하도록 결합되며,<br></br>상기 제1 수평 프레임의 하단에는 캐스터가 장착되고,<br></br>상기 제1 및 제2 수직 프레임 각각의 하단에는 높이 조절이 가능한 제1 및 제2 높이 조절 받침이 결합되고, 상기 제2 높이 조절 받침에 의해서 상기 제2 수평 프레임이 상기 제1 수평 프레임에 고정 또는 이격이 가능하고,<br></br>상기 반송부는 컨베이어 벨트로 이루어지며, 상기 반송부 하부에는 슬라이드 베드가 형성되고,<br></br>상기 슬라이드 베드는 상기 검출부 내에 위치하는 제2 슬라이드 베드와, 상기 제2 슬라이드 베드의 양단 각각에 소정 간격으로 이격되어 위치되는 제1 및 제3 슬라이드로 구성되는, 금속이물 검출장치.</claim-text></claim> <claim num=\"2\"><AmendStatus status=\"D\">삭제</AmendStatus></claim> <claim num=\"3\"><claim-text>피검출물을 이동하는 반송부를 지지하는 제1 프레임과 상기 피검출물의 금속이물 여부를 검출하는 검출부를 지지하는 제2 프레임으로 형성되고,<br></br>상기 제1 프레임은 복수의 제1 수직 프레임과 복수의 제1 수평 프레임으로 형성되며, 상기 제2 프레임은 복수의 제2 수직 프레임과 복수의 제2 수평 프레임으로 형성되고,<br></br>상기 제1 수평 프레임의 소정 위치의 상면에는 지지 블록이 고정되고, 상기 지지 블록에는 상기 제2 수평 프레임이 고정 또는 이격이 가능하도록 결합되며,<br></br>상기 제1 수평 프레임의 하단에는 캐스터가 장착되고,<br></br>상기 제1 및 제2 수직 프레임 각각의 하단에는 높이 조절이 가능한 제1 및 제2 높이 조절 받침이 결합되고,<br></br>상기 지지 블록은 요(凹) 형상을 180도 뒤집은 형상이며, 오목한 부분에 상기 제2 수평 프레임이 결합되고, <br></br>상기 제2 높이 조절 받침이 지면에 맞닿아 지지되는 경우, 상기 제2 수평 프레임은 상기 지지 블록으로부터 상방향으로 이격되고,<br></br>상기 제2 높이 조절 받침이 지면으로부터 이격되는 경우, 상기 제2 수평 프레임은 상기 지지 블록에 결합되어 고정되는, 금속이물 검출장치.</claim-text></claim> <claim num=\"4\"><AmendStatus status=\"D\">삭제</AmendStatus></claim> <claim num=\"5\"><claim-text>제1항 또는 제3항에 있어서,<br></br>상기 제1 및 제2 높이 조절 받침이 지면으로부터 이격되는 경우, 상기 제2 수평 프레임이 상기 지지 블록에 고정되고, 상기 캐스터가 상기 지면에 맞닿아 상기 제1 및 제2 프레임이 일체로 이동 가능한, 금속이물 검출장치. </claim-text></claim>\n",
      "\n"
     ]
    }
   ],
   "source": [
    "print(text_kr_claim[0], '\\n', text_kr_claim[1])"
   ]
  },
  {
   "cell_type": "code",
   "execution_count": 63,
   "id": "0f41ba6f-5950-4be3-9228-5445870dce6f",
   "metadata": {},
   "outputs": [],
   "source": [
    "with open(\"CPC.txt\", \"r\", encoding=\"UTF-8\") as f:\n",
    "    text_kr_cpc = f.readlines()"
   ]
  },
  {
   "cell_type": "code",
   "execution_count": 65,
   "id": "0dfe10fb-c421-4657-a82a-18d231984791",
   "metadata": {},
   "outputs": [
    {
     "name": "stdout",
     "output_type": "stream",
     "text": [
      "출원번호¶특허분류일련번호¶cpc코드¶cpc개정일자\n",
      " \n",
      " 1020200036865¶1¶G01V 3/088¶(2013.01)\n",
      "\n"
     ]
    }
   ],
   "source": [
    "print(text_kr_cpc[0], '\\n', text_kr_cpc[1])"
   ]
  },
  {
   "cell_type": "code",
   "execution_count": 74,
   "id": "101e7bad-5d79-40aa-bfcf-81468c7c986a",
   "metadata": {},
   "outputs": [
    {
     "data": {
      "text/plain": [
       "'D:\\\\TEMP\\\\유럽특허 등록공보(서지)_up to 2023\\\\20220106'"
      ]
     },
     "execution_count": 74,
     "metadata": {},
     "output_type": "execute_result"
    }
   ],
   "source": [
    "os.chdir('D:\\\\TEMP\\\\유럽특허 등록공보(서지)_up to 2023\\\\20220106')\n",
    "os.getcwd()"
   ]
  },
  {
   "cell_type": "code",
   "execution_count": 76,
   "id": "2b450691-ac44-4f6a-9be7-3dcc7e74df52",
   "metadata": {},
   "outputs": [
    {
     "name": "stdout",
     "output_type": "stream",
     "text": [
      "문헌번호^|&초록^|&언어코드\n",
      " \n",
      " 000003908749A1^|&<p num=\"0000\">A generator (24) for a wind turbine (1) comprises a rotor (32) with an axis of rotation, a stator and a radial and/or axial locking mechanism. The radial locking mechanism comprises a plurality of radial locks (60) with a fixed portion (70) coupled to the stator and a movable elongate portion (72) configured to move relative to the fixed portion (70) and radially with respect to the axis of the rotation to lock the stator in a radial direction. The rotor (32) may comprise at least one lock engagement feature (86) arranged at its end surface and an end shield (90) located axially outward and at least partially adjacent the end surface. The end shield (90) comprises at least one opening enabling access to the end surface of the rotor (32). The axial locking mechanism may comprise at least one axial lock (80) comprising a removable block (82) configured to partly cover the at least one opening of the end shield (90) and a rotor engagement tool (84) for engaging the removable block (82) with the at least one lock engagement feature (86).</p>^|&EN\n",
      "\n"
     ]
    }
   ],
   "source": [
    "with open(\"EP_ABSTRACT.txt\", \"r\", encoding=\"UTF-8\") as f:\n",
    "    text_ep_abs = f.readlines()\n",
    "\n",
    "print(text_ep_abs[0], '\\n', text_ep_abs[1])"
   ]
  },
  {
   "cell_type": "code",
   "execution_count": 87,
   "id": "d26114df-0598-4cdc-a587-dbf494aaa569",
   "metadata": {},
   "outputs": [
    {
     "name": "stdout",
     "output_type": "stream",
     "text": [
      "문헌번호^|&특허문헌코드^|&공보번호^|&공보일자^|&등록번호^|&등록일자^|&공개번호^|&공개일자^|&출원번호^|&출원일자^|&국제출원번호^|&국제출원일자^|&국제공개번호^|&국제공개일자^|&발명의명칭\n",
      " \n",
      " 000003908749A1^|&A1^|&03908749^|&20211117^|& ^|& ^|&03908749^|&20211117^|&20700545.5^|&20200109^|&PCT/DK2020/050006^|&20200109^|&WO2020143889^|&20200716^|&LOCKING MECHANISM FOR A WIND TURBINE GENERATOR\n",
      "\n"
     ]
    }
   ],
   "source": [
    "with open(\"EP_BIBLIO.txt\", \"r\", encoding=\"UTF-8\") as f:\n",
    "    text_ep_bib = f.readlines()\n",
    "\n",
    "print(text_ep_bib[0], '\\n', text_ep_bib[1])"
   ]
  },
  {
   "cell_type": "code",
   "execution_count": 88,
   "id": "30c9eeb5-e0a3-428a-a968-cdda54b3211d",
   "metadata": {},
   "outputs": [
    {
     "name": "stdout",
     "output_type": "stream",
     "text": [
      "문헌번호^|&청구항^|&언어코드\n",
      " \n",
      " 000003902000A1^|&<claim id=\"c-en-0001\" num=\"0001\"> <claim-text>A backlight module, comprising an LED chip, wherein further comprising a plurality of transparent brackets and a plurality of sealant, the transparent bracket has an accommodation groove arranged, the LED chip is arranged at a bottom of the accommodation groove, the sealant is arranged in the accommodation groove, and covers a light-emitting surface of the LED chip.</claim-text></claim> <claim id=\"c-en-0002\" num=\"0002\"> <claim-text>The backlight module according to claim 1, wherein a surface of the sealant facing to an opening of the accommodation groove is an arc-shaped surface, and the arc-shaped surface is recessed toward the LED chip.</claim-text></claim> <claim id=\"c-en-0003\" num=\"0003\"> <claim-text>The backlight module according to claim 1, wherein the accommodation groove is a truncated cone-shaped accommodation groove, and a diameter of a bottom of the truncated cone-shaped accommodation groove is smaller than a diameter of the opening thereof.</claim-text></claim> <claim id=\"c-en-0004\" num=\"0004\"> <claim-text>The backlight module according to claim 1, wherein the sealant has a plurality of light diffusion particles arranged inside.</claim-text></claim> <claim id=\"c-en-0005\" num=\"0005\"> <claim-text>The backlight module according to claim 1, wherein the accommodation groove further has a reflector arranged inside, and the reflector locates on the surface of the sealant facing to the opening of the accommodation groove.</claim-text></claim> <claim id=\"c-en-0006\" num=\"0006\"> <claim-text>The backlight module according to claim 5, wherein the reflector is made of a mixed material comprising TiO<sub>2</sub>, SiO<sub>2</sub> and silica gel.</claim-text></claim> <claim id=\"c-en-0007\" num=\"0007\"> <claim-text>The backlight module according to claim 5, wherein a side of the reflector facing to the opening of the accommodation groove is a flat surface.</claim-text></claim> <claim id=\"c-en-0008\" num=\"0008\"> <claim-text>The backlight module according to claim 7, wherein the side of the reflector facing to the opening of the accommodation groove is coplanar with a surface of the transparent bracket.</claim-text></claim> <claim id=\"c-en-0009\" num=\"0009\"> <claim-text>The backlight module according to claim 5, wherein the side of the reflector facing to the opening of the accommodation groove is an arc-shaped surface, recessing toward the bottom of the accommodation groove.</claim-text></claim> <claim id=\"c-en-0010\" num=\"0010\"> <claim-text>The backlight module according to claim 5, wherein the side of the reflector facing to the opening of the accommodation groove is an arc-shaped surface, protruding toward the opening of the accommodation groove.</claim-text></claim> <claim id=\"c-en-0011\" num=\"0011\"> <claim-text>The backlight module according to claim 1, wherein further comprising a PCB board, the transparent brackets are arranged on the PCB board, the LED chip electrically connects to the PCB board, and a side of the PCB board having the transparent brackets mounted on has further a reflective layer arranged.</claim-text></claim> <claim id=\"c-en-0012\" num=\"0012\"> <claim-text>The backlight module according to claim 11, wherein a side of the transparent bracket away from the PCB board has a diffusion plate and a quantum dot membrane sequentially arranged.</claim-text></claim> <claim id=\"c-en-0013\" num=\"0013\"> <claim-text>The backlight module according to claim 12, wherein the quantum dot membrane is made of a red quantum dot material and a green quantum dot material.</claim-text></claim> <claim id=\"c-en-0014\" num=\"0014\"> <claim-text>The backlight module according to claim 13, wherein both the red quantum dot material and the green quantum dot material comprise at least one of a III-V group compound, a II-VI group compound, an all-inorganic cesium lead halide perovskite quantum dot and an organic-inorganic hybrid perovskite material.</claim-text></claim> <claim id=\"c-en-0015\" num=\"0015\"> <claim-text>The backlight module according to claim 12, wherein a side of the quantum dot membrane away from the PCB board has a composite membrane arranged, the composite membrane comprises at least one of a diffusing piece, a brightening sheet and a MicroLENS.</claim-text></claim>^|&EN\n",
      "\n"
     ]
    }
   ],
   "source": [
    "with open(\"EP_CLAIM.txt\", \"r\", encoding=\"UTF-8\") as f:\n",
    "    text_ep_claim = f.readlines()\n",
    "\n",
    "print(text_ep_claim[0], '\\n', text_ep_claim[1])"
   ]
  },
  {
   "cell_type": "code",
   "execution_count": 89,
   "id": "e1592dea-d7a9-40e7-8448-b5f6d6c8351c",
   "metadata": {},
   "outputs": [
    {
     "data": {
      "text/plain": [
       "'D:\\\\TEMP\\\\PCT공개공보(서지)_2022-2023\\\\20220109'"
      ]
     },
     "execution_count": 89,
     "metadata": {},
     "output_type": "execute_result"
    }
   ],
   "source": [
    "os.chdir('D:\\\\TEMP\\\\PCT공개공보(서지)_2022-2023\\\\20220109')\n",
    "os.getcwd()"
   ]
  },
  {
   "cell_type": "code",
   "execution_count": 90,
   "id": "b5b1ab4b-c078-402b-adbf-567115b26aee",
   "metadata": {},
   "outputs": [
    {
     "name": "stdout",
     "output_type": "stream",
     "text": [
      "문헌번호|#*#|특허문헌코드|#*#|공보번호|#*#|공보일자|#*#|등록번호|#*#|등록일자|#*#|공개번호|#*#|공개일자|#*#|출원번호|#*#|출원일자|#*#|국제출원번호|#*#|국제출원일자|#*#|국제공개번호|#*#|국제공개일자|#*#|발명의명칭\n",
      " \n",
      " 202100223419A1|#*#|A1|#*#|2021223419|#*#|20211111|#*#| |#*#| |#*#|2021223419|#*#|20211111|#*#|PCT/CN2020/131917|#*#|20201126|#*#| |#*#| |#*#| |#*#| |#*#|SMART EXECUTABLE CONTRACT CONSTRUCTION AND EXECUTION METHOD AND SYSTEM FOR LEGAL CONTRACT\n",
      "\n"
     ]
    }
   ],
   "source": [
    "with open(\"WO_BIBLIO.txt\", \"r\", encoding=\"UTF-8\") as f:\n",
    "    text_wo_bib = f.readlines()\n",
    "\n",
    "print(text_wo_bib[0], '\\n', text_wo_bib[1])"
   ]
  },
  {
   "cell_type": "code",
   "execution_count": 91,
   "id": "4ec259d5-5fb1-4e57-b578-e00e5e3a9c4f",
   "metadata": {},
   "outputs": [
    {
     "name": "stdout",
     "output_type": "stream",
     "text": [
      "문헌번호|#*#|초록|#*#|언어코드\n",
      " \n",
      " 202100223419A1|#*#|<p num=\"0000\">A smart executable contract construction and execution method and system for a legal contract. The smart executable contract construction and execution method for a legal contract comprises: 1) formally expressing properties and rules in a natural language contract according to a set smart contract language to generate a smart contract; 2) converting the smart contract into an executable target language contract by using a target language conversion rule; 3) after compiling the target language contract and encapsulating same into a transaction, publishing the target language contract and performing consensus verification thereon on a blockchain, and implementing smart contract deployment after signing the contract; 4) when contract terms in the smart contract are triggered, running the smart contract in a blockchain system, and after the running of the smart contract is completed, publishing the running result to the blockchain in the form of a transaction, performing consensus verification on the content comprised in the transaction and then storing the content in the blockchain in a set form as an electronic deposit for contract execution. By means of the above method, the formulation of a standardized framework for the whole process from a real contract to a program code, a machine code, and deployment and execution, etc. is completed.</p>|#*#|EN\n",
      "\n"
     ]
    }
   ],
   "source": [
    "with open(\"WO_ABSTRACT.txt\", \"r\", encoding=\"UTF-8\") as f:\n",
    "    text_wo_abs = f.readlines()\n",
    "\n",
    "print(text_wo_abs[0], '\\n', text_wo_abs[1])"
   ]
  },
  {
   "cell_type": "code",
   "execution_count": null,
   "id": "e1848700-32ba-4a01-a73c-b573ede540bc",
   "metadata": {},
   "outputs": [],
   "source": []
  }
 ],
 "metadata": {
  "kernelspec": {
   "display_name": "Python 3 (ipykernel)",
   "language": "python",
   "name": "python3"
  },
  "language_info": {
   "codemirror_mode": {
    "name": "ipython",
    "version": 3
   },
   "file_extension": ".py",
   "mimetype": "text/x-python",
   "name": "python",
   "nbconvert_exporter": "python",
   "pygments_lexer": "ipython3",
   "version": "3.11.7"
  }
 },
 "nbformat": 4,
 "nbformat_minor": 5
}
